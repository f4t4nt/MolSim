{
 "metadata": {
  "language_info": {
   "codemirror_mode": {
    "name": "ipython",
    "version": 3
   },
   "file_extension": ".py",
   "mimetype": "text/x-python",
   "name": "python",
   "nbconvert_exporter": "python",
   "pygments_lexer": "ipython3",
   "version": "3.6.9-final"
  },
  "orig_nbformat": 2,
  "kernelspec": {
   "name": "python36964bit61e6f3595dd24848b1003626a3b1b4b1",
   "display_name": "Python 3.6.9 64-bit"
  }
 },
 "nbformat": 4,
 "nbformat_minor": 2,
 "cells": [
  {
   "cell_type": "code",
   "execution_count": 15,
   "metadata": {},
   "outputs": [],
   "source": [
    "    import jax.numpy as np\n",
    "    import jax as jax\n"
   ]
  },
  {
   "cell_type": "code",
   "execution_count": 22,
   "metadata": {},
   "outputs": [
    {
     "output_type": "execute_result",
     "data": {
      "text/plain": "(DeviceArray([[0., 0., 0., 0.],\n              [0., 0., 0., 0.],\n              [0., 0., 0., 0.],\n              [0., 0., 0., 0.],\n              [0., 0., 0., 0.]], dtype=float32),\n DeviceArray([[1., 2., 3., 4.],\n              [6., 7., 8., 9.]], dtype=float32))"
     },
     "metadata": {},
     "execution_count": 22
    }
   ],
   "source": [
    "emp = np.empty([5,4], dtype='float32')\n",
    "sub = np.array([[1,2,3,4],[6,7,8,9]], dtype='float32')\n",
    "emp, sub"
   ]
  },
  {
   "cell_type": "code",
   "execution_count": 26,
   "metadata": {},
   "outputs": [
    {
     "output_type": "execute_result",
     "data": {
      "text/plain": "DeviceArray([[0., 0., 0., 0.],\n             [1., 2., 3., 4.],\n             [6., 7., 8., 9.],\n             [0., 0., 0., 0.],\n             [0., 0., 0., 0.]], dtype=float32)"
     },
     "metadata": {},
     "execution_count": 26
    }
   ],
   "source": [
    "emp = jax.ops.index_update(emp, jax.ops.index[1:3], sub)\n",
    "emp"
   ]
  },
  {
   "cell_type": "code",
   "execution_count": 24,
   "metadata": {},
   "outputs": [
    {
     "output_type": "execute_result",
     "data": {
      "text/plain": "DeviceArray([[1., 2., 3., 4.],\n             [6., 7., 8., 9.]], dtype=float32)"
     },
     "metadata": {},
     "execution_count": 24
    }
   ],
   "source": [
    "sub[jax.ops.index[0:2]]"
   ]
  },
  {
   "cell_type": "code",
   "execution_count": null,
   "metadata": {},
   "outputs": [],
   "source": []
  }
 ]
}