{
 "cells": [
  {
   "cell_type": "code",
   "execution_count": 3,
   "metadata": {},
   "outputs": [],
   "source": [
    "import numpy as np\n",
    "import pickle as pl\n",
    "import math as math\n",
    "from enum import Enum"
   ]
  },
  {
   "cell_type": "code",
   "execution_count": 40,
   "metadata": {},
   "outputs": [],
   "source": [
    "def VecRotationMatrix(vect, angle, isRad = False):\n",
    "    angle = angle if isRad else angle * np.pi / 180\n",
    "    mag = np.linalg.norm(vect)\n",
    "    l = vect[0, 0] / mag \n",
    "    m = vect[0, 1] / mag\n",
    "    n = vect[0, 2] / mag\n",
    "    cos = np.cos(angle)\n",
    "    omc = 1 - cos\n",
    "    sin = np.sin(angle)\n",
    "    return np.matrix([\n",
    "        [l * l * omc + cos, m * l * omc - n * sin, n * l * omc + m * sin, 0],\n",
    "        [l * m * omc + n * sin, m * m * omc + cos, m * n * omc - l * sin, 0],\n",
    "        [l * n * omc - m * sin, m * n * omc + l * sin, n * n * omc + cos, 0],\n",
    "        [0, 0, 0, 1]])\n",
    "\n",
    "def VecTranslationMatrix(vect):\n",
    "    return np.matrix([\n",
    "        [1, 0, 0, vect[0, 0]],\n",
    "        [0, 1, 0, vect[0, 1]],\n",
    "        [0, 0, 1, vect[0, 2]],\n",
    "        [0, 0, 0, 1]])"
   ]
  },
  {
   "cell_type": "code",
   "execution_count": 48,
   "metadata": {},
   "outputs": [
    {
     "output_type": "execute_result",
     "data": {
      "text/plain": "[matrix([[-1.12666751],\n         [ 1.02999431],\n         [ 0.        ],\n         [ 1.        ]]),\n matrix([[-1.12666751],\n         [-0.51499716],\n         [ 0.89200124],\n         [ 1.        ]]),\n matrix([[-1.12666751],\n         [-0.51499716],\n         [-0.89200124],\n         [ 1.        ]])]"
     },
     "metadata": {},
     "execution_count": 48
    }
   ],
   "source": [
    "transforms = []\n",
    "for x in [0, 120, 240]:\n",
    "    transforms.append(\n",
    "        VecTranslationMatrix(np.matrix([-.77, 0, 0])) * \\\n",
    "        VecRotationMatrix(np.matrix([1, 0, 0]), x) * \\\n",
    "        VecRotationMatrix(np.matrix([0, 0, 1]), 109.1) * \\\n",
    "        VecTranslationMatrix(np.matrix([1.09, 0, 0])) * \\\n",
    "        np.matrix([[0], [0], [0], [1]]))\n",
    "\n",
    "transforms"
   ]
  },
  {
   "cell_type": "code",
   "execution_count": null,
   "metadata": {},
   "outputs": [],
   "source": []
  }
 ],
 "metadata": {
  "language_info": {
   "codemirror_mode": {
    "name": "ipython",
    "version": 3
   },
   "file_extension": ".py",
   "mimetype": "text/x-python",
   "name": "python",
   "nbconvert_exporter": "python",
   "pygments_lexer": "ipython3",
   "version": "3.6.5-final"
  },
  "orig_nbformat": 2,
  "kernelspec": {
   "name": "python36564bit51c8160a26ba4803bacf95c495129ae5",
   "display_name": "Python 3.6.5 64-bit"
  }
 },
 "nbformat": 4,
 "nbformat_minor": 2
}