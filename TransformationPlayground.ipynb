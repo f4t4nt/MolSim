{
 "cells": [
  {
   "cell_type": "code",
   "execution_count": 25,
   "metadata": {},
   "outputs": [],
   "source": [
    "import numpy as np\n",
    "import pickle as pl\n",
    "import math as math\n",
    "import jax as jax\n",
    "import jax.numpy as jnp\n",
    "from enum import Enum"
   ]
  },
  {
   "cell_type": "code",
   "execution_count": 38,
   "metadata": {},
   "outputs": [],
   "source": [
    "def VecRotationMatrix(vect, angle, isRad = False):\n",
    "    angle = angle if isRad else angle * math.pi / 180\n",
    "    mag = np.linalg.norm(vect)\n",
    "    l = vect[0, 0] / mag \n",
    "    m = vect[0, 1] / mag\n",
    "    n = vect[0, 2] / mag\n",
    "    cos = math.cos(angle)\n",
    "    omc = 1 - cos\n",
    "    sin = math.sin(angle)\n",
    "    return np.matrix([\n",
    "        [l * l * omc + cos, m * l * omc - n * sin, n * l * omc + m * sin, 0],\n",
    "        [l * m * omc + n * sin, m * m * omc + cos, m * n * omc - l * sin, 0],\n",
    "        [l * n * omc - m * sin, m * n * omc + l * sin, n * n * omc + cos, 0],\n",
    "        [0, 0, 0, 1]])\n",
    "\n",
    "def VecTranslationMatrix(vect):\n",
    "    return np.matrix([\n",
    "        [1, 0, 0, vect[0, 0]],\n",
    "        [0, 1, 0, vect[0, 1]],\n",
    "        [0, 0, 1, vect[0, 2]],\n",
    "        [0, 0, 0, 1]])\n",
    "\n",
    "def SphericalRotationMatrix(theta, phi, isRad = False):\n",
    "    thetaRotationMatrix = VecRotationMatrix(np.matrix([0, 0, 1]), theta, isRad)\n",
    "    phiRotationVector = thetaRotationMatrix * np.matrix([[0], [-1], [0], [1]])\n",
    "\n",
    "    phiRotationMatrix = VecRotationMatrix( \\\n",
    "        np.matrix([ \\\n",
    "            phiRotationVector[0, 0], \\\n",
    "            phiRotationVector[1, 0], \\\n",
    "            phiRotationVector[2, 0]]), \\\n",
    "        phi, \\\n",
    "        isRad)\n",
    "\n",
    "    return phiRotationMatrix * thetaRotationMatrix\n",
    "\n",
    "origin = np.matrix([[0], [0], [0], [1]])\n",
    "xunit = np.matrix([[1], [0], [0], [1]])\n",
    "yunit = np.matrix([[0], [1], [0], [1]])\n",
    "zunit = np.matrix([[0], [0], [1], [1]])\n",
    "mxunit = np.matrix([[-1], [0], [0], [1]])\n",
    "myunit = np.matrix([[0], [-1], [0], [1]])\n",
    "mzunit = np.matrix([[0], [0], [-1], [1]])"
   ]
  },
  {
   "cell_type": "code",
   "execution_count": null,
   "metadata": {},
   "outputs": [],
   "source": []
  },
  {
   "cell_type": "code",
   "execution_count": 48,
   "metadata": {},
   "outputs": [
    {
     "output_type": "execute_result",
     "data": {
      "text/plain": "[matrix([[-1.12666751],\n         [ 1.02999431],\n         [ 0.        ],\n         [ 1.        ]]),\n matrix([[-1.12666751],\n         [-0.51499716],\n         [ 0.89200124],\n         [ 1.        ]]),\n matrix([[-1.12666751],\n         [-0.51499716],\n         [-0.89200124],\n         [ 1.        ]])]"
     },
     "metadata": {},
     "execution_count": 48
    }
   ],
   "source": [
    "transforms = []\n",
    "for x in [0, 120, 240]:\n",
    "    transforms.append(\n",
    "        VecTranslationMatrix(np.matrix([-.77, 0, 0])) * \\\n",
    "        VecRotationMatrix(np.matrix([1, 0, 0]), x) * \\\n",
    "        VecRotationMatrix(np.matrix([0, 0, 1]), 109.1) * \\\n",
    "        VecTranslationMatrix(np.matrix([1.09, 0, 0])) * \\\n",
    "        np.matrix([[0], [0], [0], [1]]))\n",
    "\n",
    "transforms"
   ]
  },
  {
   "cell_type": "code",
   "execution_count": 6,
   "metadata": {},
   "outputs": [
    {
     "output_type": "execute_result",
     "data": {
      "text/plain": "matrix([[0.99962422],\n        [0.02741213],\n        [0.        ],\n        [1.        ]])"
     },
     "metadata": {},
     "execution_count": 6
    }
   ],
   "source": [
    "VecTranslationMatrix(np.matrix([1, 0, 0])) * origin"
   ]
  },
  {
   "cell_type": "code",
   "execution_count": 39,
   "metadata": {},
   "outputs": [
    {
     "output_type": "execute_result",
     "data": {
      "text/plain": "matrix([[6.123234e-17],\n        [1.000000e+00],\n        [0.000000e+00],\n        [1.000000e+00]])"
     },
     "metadata": {},
     "execution_count": 39
    }
   ],
   "source": [
    "SphericalRotationMatrix(90, 0) * xunit"
   ]
  },
  {
   "cell_type": "code",
   "execution_count": null,
   "metadata": {},
   "outputs": [],
   "source": []
  },
  {
   "cell_type": "code",
   "execution_count": 42,
   "metadata": {},
   "outputs": [
    {
     "output_type": "execute_result",
     "data": {
      "text/plain": "-6.123233995736766e-17"
     },
     "metadata": {},
     "execution_count": 42
    }
   ],
   "source": [
    "(VecRotationMatrix(np.matrix([0, 0, 1]), 90) * myunit)[1, 0]"
   ]
  },
  {
   "cell_type": "code",
   "execution_count": 37,
   "metadata": {},
   "outputs": [
    {
     "output_type": "execute_result",
     "data": {
      "text/plain": "matrix([[ 6.123234e-17, -1.000000e+00,  0.000000e+00,  0.000000e+00],\n        [ 1.000000e+00,  6.123234e-17,  0.000000e+00,  0.000000e+00],\n        [ 0.000000e+00,  0.000000e+00,  1.000000e+00,  0.000000e+00],\n        [ 0.000000e+00,  0.000000e+00,  0.000000e+00,  1.000000e+00]])"
     },
     "metadata": {},
     "execution_count": 37
    }
   ],
   "source": [
    "VecRotationMatrix(np.matrix([0, 0, 1]), 90)"
   ]
  },
  {
   "cell_type": "code",
   "execution_count": 23,
   "metadata": {},
   "outputs": [
    {
     "output_type": "execute_result",
     "data": {
      "text/plain": "matrix([[6.123234e-17],\n        [1.000000e+00],\n        [0.000000e+00],\n        [1.000000e+00]])"
     },
     "metadata": {},
     "execution_count": 23
    }
   ],
   "source": [
    "VecRotationMatrix(np.matrix([1, 0, 0]), 0) * VecRotationMatrix(np.matrix([0, 0, 1]), 90) * xunit"
   ]
  },
  {
   "cell_type": "code",
   "execution_count": 36,
   "metadata": {},
   "outputs": [
    {
     "output_type": "execute_result",
     "data": {
      "text/plain": "matrix([[0.],\n        [1.],\n        [0.],\n        [1.]])"
     },
     "metadata": {},
     "execution_count": 36
    }
   ],
   "source": [
    "VecRotationMatrix(np.matrix([1, 0, 0]), 0) * yunit"
   ]
  },
  {
   "cell_type": "code",
   "execution_count": 26,
   "metadata": {},
   "outputs": [
    {
     "output_type": "execute_result",
     "data": {
      "text/plain": "matrix([[0],\n        [1],\n        [0],\n        [1]])"
     },
     "metadata": {},
     "execution_count": 26
    }
   ],
   "source": []
  },
  {
   "cell_type": "code",
   "execution_count": 27,
   "metadata": {},
   "outputs": [
    {
     "output_type": "execute_result",
     "data": {
      "text/plain": "matrix([[1],\n        [0],\n        [0],\n        [1]])"
     },
     "metadata": {},
     "execution_count": 27
    }
   ],
   "source": [
    "xunit"
   ]
  },
  {
   "cell_type": "code",
   "execution_count": 28,
   "metadata": {},
   "outputs": [
    {
     "output_type": "execute_result",
     "data": {
      "text/plain": "matrix([[ 0],\n        [-1],\n        [ 0],\n        [ 1]])"
     },
     "metadata": {},
     "execution_count": 28
    }
   ],
   "source": [
    "myunit"
   ]
  },
  {
   "cell_type": "code",
   "execution_count": 10,
   "metadata": {},
   "outputs": [
    {
     "output_type": "execute_result",
     "data": {
      "text/plain": "matrix([[0, 1, 2, 3],\n        [8, 9, 0, 1]])"
     },
     "metadata": {},
     "execution_count": 10
    }
   ],
   "source": [
    "x = np.matrix([[0, 1, 2, 3], [4, 5, 6, 7], [8, 9, 0, 1], [2, 3, 4, 5]])\n",
    "y = x[[0, 2]]\n",
    "y"
   ]
  },
  {
   "cell_type": "code",
   "execution_count": 11,
   "metadata": {},
   "outputs": [
    {
     "output_type": "execute_result",
     "data": {
      "text/plain": "matrix([[[0, 1, 2, 3],\n         [4, 5, 6, 7]]])"
     },
     "metadata": {},
     "execution_count": 11
    }
   ],
   "source": [
    "x[np.matrix([0, 1])]"
   ]
  },
  {
   "cell_type": "code",
   "execution_count": 12,
   "metadata": {},
   "outputs": [
    {
     "output_type": "execute_result",
     "data": {
      "text/plain": "matrix([[[0, 1, 2, 3]],\n\n        [[8, 9, 0, 1]]])"
     },
     "metadata": {},
     "execution_count": 12
    }
   ],
   "source": [
    "x[np.matrix([[0], [2]])]"
   ]
  },
  {
   "cell_type": "code",
   "execution_count": 13,
   "metadata": {},
   "outputs": [
    {
     "output_type": "execute_result",
     "data": {
      "text/plain": "matrix([[[0, 1, 2, 3],\n         [4, 5, 6, 7]],\n\n        [[0, 1, 2, 3],\n         [8, 9, 0, 1]]])"
     },
     "metadata": {},
     "execution_count": 13
    }
   ],
   "source": [
    "x[np.matrix([[0, 1], [0, 2]])]"
   ]
  },
  {
   "cell_type": "code",
   "execution_count": 14,
   "metadata": {},
   "outputs": [
    {
     "output_type": "execute_result",
     "data": {
      "text/plain": "matrix([[0, 1, 2, 3]])"
     },
     "metadata": {},
     "execution_count": 14
    }
   ],
   "source": [
    "x[0]"
   ]
  },
  {
   "cell_type": "code",
   "execution_count": 48,
   "metadata": {},
   "outputs": [
    {
     "output_type": "execute_result",
     "data": {
      "text/plain": "matrix([[ 8],\n        [13]], dtype=int32)"
     },
     "metadata": {},
     "execution_count": 48
    }
   ],
   "source": [
    "# square of distance magnitude\n",
    "\n",
    "pos = np.matrix([[0, 0], [2, 2], [5, 0]])\n",
    "edgeI = pos[[0, 1]]\n",
    "edgeJ = pos[[1, 2]]\n",
    "\n",
    "dis = edgeI - edgeJ\n",
    "\n",
    "np.sum(np.square(dis), axis = 1)"
   ]
  },
  {
   "cell_type": "code",
   "execution_count": 72,
   "metadata": {},
   "outputs": [
    {
     "output_type": "execute_result",
     "data": {
      "text/plain": "(matrix([[-2, -2],\n         [ 5,  0]]),\n matrix([[ 3, -2],\n         [ 2,  2]]),\n matrix([[-2],\n         [10]]),\n matrix([[-2],\n         [10]]),\n matrix([[-2],\n         [10]]))"
     },
     "metadata": {},
     "execution_count": 72
    }
   ],
   "source": [
    "# dot product\n",
    "\n",
    "angleI = pos[[0, 2]]\n",
    "angleJ = pos[[1, 0]]\n",
    "angleK = pos[[2, 1]]\n",
    "\n",
    "vect1 = angleI - angleJ\n",
    "vect2 = angleK - angleJ\n",
    "\n",
    "dotProd = (vect1 * vect2.transpose()).diagonal().transpose()    # same as np.sum(np.multiply(vect1, vect2), axis = 1) (MORE EFFICIENT)\n",
    "                                                                # also same as np.dot(vect1, vect2.transpose()).diagonal().transpose() (NEEDS MORE TESTING TO MAKE SURE THIS IS EQUIVALENT)\n",
    "\n",
    "(vect1, vect2, dotProd, np.sum(np.multiply(vect1, vect2), axis = 1), np.dot(vect1, vect2.transpose()).diagonal().transpose())"
   ]
  },
  {
   "cell_type": "code",
   "execution_count": 74,
   "metadata": {},
   "outputs": [
    {
     "output_type": "execute_result",
     "data": {
      "text/plain": "(matrix([[2.82842712],\n         [5.        ]]),\n matrix([[3.60555128],\n         [2.82842712]]),\n matrix([[10.19803903],\n         [14.14213562]]),\n matrix([[10.19803903],\n         [14.14213562]]),\n matrix([[-2],\n         [10]]),\n matrix([[1.76819189],\n         [0.78539816]]))"
     },
     "metadata": {},
     "execution_count": 74
    }
   ],
   "source": [
    "# vector angle\n",
    "\n",
    "mag1 = np.sqrt(np.sum(np.square(vect1), axis = 1))\n",
    "mag2 = np.sqrt(np.sum(np.square(vect2), axis = 1))\n",
    "magProd = (mag1 * mag2.transpose()).diagonal().transpose() # same as np.sum(np.multiply(mag1, mag2), axis = 1) (MORE EFFICIENT)\n",
    "\n",
    "(mag1, mag2, magProd, np.sum(np.multiply(mag1, mag2), axis = 1), dotProd, np.arccos(dotProd / magProd))"
   ]
  },
  {
   "cell_type": "code",
   "execution_count": 75,
   "metadata": {},
   "outputs": [
    {
     "output_type": "execute_result",
     "data": {
      "text/plain": "(matrix([[1, 2, 3],\n         [4, 5, 6]]),\n matrix([[4, 5, 6],\n         [1, 2, 3]]),\n array([[-3,  6, -3],\n        [ 3, -6,  3]]))"
     },
     "metadata": {},
     "execution_count": 75
    }
   ],
   "source": [
    "# cross product\n",
    "\n",
    "vect3 = np.matrix([[1, 2, 3], [4, 5, 6]])\n",
    "vect4 = np.matrix([[4, 5, 6], [1, 2, 3]])\n",
    "\n",
    "(vect3, vect4, np.cross(vect3, vect4))"
   ]
  },
  {
   "cell_type": "code",
   "execution_count": 78,
   "metadata": {},
   "outputs": [
    {
     "output_type": "execute_result",
     "data": {
      "text/plain": "[(0, 'foo', 10), (1, 'bar', 11)]"
     },
     "metadata": {},
     "execution_count": 78
    }
   ],
   "source": [
    "# torsional angle\n",
    "[(i, k, v) for i, (k, v) in enumerate(({\"foo\": 10, \"bar\": 11}).items())]\n"
   ]
  },
  {
   "cell_type": "code",
   "execution_count": 41,
   "metadata": {
    "tags": []
   },
   "outputs": [
    {
     "output_type": "stream",
     "name": "stdout",
     "text": "2.0043342361507333\n"
    }
   ],
   "source": [
    "def angle_2(R, nplib):\n",
    "    r1 = R[0,:]-R[1,:]\n",
    "    r2 = R[2,:]-R[1,:]\n",
    "    dot = nplib.sum(nplib.multiply(r1, r2))\n",
    "    r1_mag = nplib.sqrt(nplib.sum(nplib.square(r1)))\n",
    "    r2_mag = nplib.sqrt(nplib.sum(nplib.square(r2)))\n",
    "    angle = nplib.arccos(dot / (r1_mag * r2_mag))\n",
    "    return angle\n",
    "def angle_np(R):\n",
    "    return angle_2(R, np)\n",
    "\n",
    "result = angle_np(np.array([\n",
    "    [-1, 2, 1],\n",
    "    [3, 3, 1],\n",
    "    [5, 1, -1]\n",
    "    ]))\n",
    "\n",
    "print(result)"
   ]
  },
  {
   "cell_type": "code",
   "execution_count": 42,
   "metadata": {
    "tags": []
   },
   "outputs": [
    {
     "output_type": "stream",
     "name": "stdout",
     "text": "[2.0043342 1.7331997 1.3984457]\n"
    }
   ],
   "source": [
    "def angle_jnp(R):\n",
    "    return angle_2(R, jnp)\n",
    "\n",
    "angle = jax.vmap(angle_jnp, in_axes = (0, ))\n",
    "\n",
    "params = jnp.array([\n",
    "    [[-1, 2, 1],\n",
    "    [3, 3, 1],\n",
    "    [5, 1, -1]],\n",
    "    [[-1, 2, 1],\n",
    "    [3, 3, 1],\n",
    "    [5, 1, -1]],\n",
    "    [[-1, 2, 1],\n",
    "    [3, 3, 1],\n",
    "    [5, 1, -1]],\n",
    "])\n",
    "result = angle(params)\n",
    "\n",
    "print(result)"
   ]
  },
  {
   "cell_type": "code",
   "execution_count": 31,
   "metadata": {},
   "outputs": [
    {
     "output_type": "execute_result",
     "data": {
      "text/plain": "DeviceArray([[0.7551559 , 0.3129729 , 0.12388372],\n             [0.548188  , 0.8851279 , 0.30576992],\n             [0.82008433, 0.95633745, 0.3566252 ]], dtype=float32)"
     },
     "metadata": {},
     "execution_count": 31
    }
   ],
   "source": [
    "jax.numpy.ma"
   ]
  },
  {
   "cell_type": "code",
   "execution_count": null,
   "metadata": {},
   "outputs": [],
   "source": []
  }
 ],
 "metadata": {
  "language_info": {
   "codemirror_mode": {
    "name": "ipython",
    "version": 3
   },
   "file_extension": ".py",
   "mimetype": "text/x-python",
   "name": "python",
   "nbconvert_exporter": "python",
   "pygments_lexer": "ipython3",
   "version": "3.8.2-final"
  },
  "orig_nbformat": 2,
  "kernelspec": {
   "name": "python38264bit6fca4ac0c6464eb2b947a3b77272cbc6",
   "display_name": "Python 3.8.2 64-bit"
  }
 },
 "nbformat": 4,
 "nbformat_minor": 2
}